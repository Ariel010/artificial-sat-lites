{
 "cells": [
  {
   "cell_type": "code",
   "execution_count": null,
   "metadata": {},
   "outputs": [],
   "source": [
    "import pandas as pd \n",
    "import numpy as np \n",
    "import matplotlib.pyplot as plt"
   ]
  },
  {
   "cell_type": "code",
   "execution_count": null,
   "metadata": {},
   "outputs": [],
   "source": [
    "data=pd.read_excel('Data\\\\UCS-Satellite-Database-1-1-2023.xlsx')"
   ]
  },
  {
   "cell_type": "code",
   "execution_count": null,
   "metadata": {},
   "outputs": [],
   "source": [
    "# Establecer la opción para mostrar todas las columnas\n",
    "pd.set_option('display.max_columns', None)"
   ]
  },
  {
   "cell_type": "code",
   "execution_count": null,
   "metadata": {},
   "outputs": [],
   "source": [
    "data.head(4)"
   ]
  },
  {
   "cell_type": "code",
   "execution_count": null,
   "metadata": {},
   "outputs": [],
   "source": [
    "data.info()"
   ]
  },
  {
   "cell_type": "code",
   "execution_count": null,
   "metadata": {},
   "outputs": [],
   "source": [
    "data.describe()"
   ]
  },
  {
   "cell_type": "code",
   "execution_count": null,
   "metadata": {},
   "outputs": [],
   "source": [
    "#crear data para ver si tengo nulos\n",
    "nulos_por_columna =data.isnull().sum()"
   ]
  },
  {
   "cell_type": "code",
   "execution_count": null,
   "metadata": {},
   "outputs": [],
   "source": [
    "# Filtrar y mostrar solo las columnas con valores nulos\n",
    "columnas_con_nulos = nulos_por_columna[nulos_por_columna > 0]\n",
    "print(columnas_con_nulos)"
   ]
  },
  {
   "cell_type": "code",
   "execution_count": null,
   "metadata": {},
   "outputs": [],
   "source": [
    "# Obtener las columnas que comienzan con 'Unnamed'\n",
    "columnas_unnamed = [col for col in data.columns if 'Unnamed' in col]\n",
    "\n",
    "# Eliminar las columnas 'Unnamed' del DataFrame\n",
    "data_sin_unnamed = data.drop(columns=columnas_unnamed)\n"
   ]
  },
  {
   "cell_type": "code",
   "execution_count": null,
   "metadata": {},
   "outputs": [],
   "source": [
    "\n",
    "# Verificar el nuevo conjunto de datos sin las columnas 'Unnamed'\n",
    "data_sin_unnamed.info()"
   ]
  },
  {
   "cell_type": "code",
   "execution_count": null,
   "metadata": {},
   "outputs": [],
   "source": [
    "data2=data_sin_unnamed"
   ]
  },
  {
   "cell_type": "code",
   "execution_count": null,
   "metadata": {},
   "outputs": [],
   "source": [
    "data2.head(1)"
   ]
  },
  {
   "cell_type": "code",
   "execution_count": null,
   "metadata": {},
   "outputs": [],
   "source": [
    "eliminar_columnas=['Comments','Source Used for Orbital Data','Name of Satellite, Alternate Names','Source','Source.1','Source.2','Source.3','Source.4','Source.5','Source.6']"
   ]
  },
  {
   "cell_type": "code",
   "execution_count": null,
   "metadata": {},
   "outputs": [],
   "source": [
    "data3=data2.drop(columns=eliminar_columnas)"
   ]
  },
  {
   "cell_type": "code",
   "execution_count": null,
   "metadata": {},
   "outputs": [],
   "source": [
    "data3.head(2)"
   ]
  },
  {
   "cell_type": "code",
   "execution_count": null,
   "metadata": {},
   "outputs": [],
   "source": [
    "data3.columns"
   ]
  },
  {
   "cell_type": "code",
   "execution_count": null,
   "metadata": {},
   "outputs": [],
   "source": [
    "# crear nuevo dataframe con informacion relevante\n",
    "columnas_seleccionadas = ['Current Official Name of Satellite', 'Country/Org of UN Registry',\n",
    "       'Country of Operator/Owner', 'Operator/Owner', 'Users', 'Purpose',\n",
    "       'Detailed Purpose','Launch Mass (kg.)', 'Dry Mass (kg.)', 'Power (watts)',\n",
    "       'Date of Launch', 'Expected Lifetime (yrs.)', 'Contractor',\n",
    "       'Country of Contractor', 'Launch Site', 'Launch Vehicle',]\n",
    "nuevo_df = data3[columnas_seleccionadas].copy()"
   ]
  },
  {
   "cell_type": "code",
   "execution_count": null,
   "metadata": {},
   "outputs": [],
   "source": [
    "nuevo_df.head(2)"
   ]
  },
  {
   "cell_type": "code",
   "execution_count": null,
   "metadata": {},
   "outputs": [],
   "source": [
    "nuevo_df.to_csv('satelites', index=False)"
   ]
  },
  {
   "cell_type": "code",
   "execution_count": null,
   "metadata": {},
   "outputs": [],
   "source": [
    "# Reemplaza todos los valores '11/29/018' con '2018-11-29' en la columna 'Date of Launch'\n",
    "nuevo_df.loc[nuevo_df['Date of Launch'] == '11/29/018', 'Date of Launch'] = '2018-11-29'\n",
    "\n",
    "# Convierte la columna 'Date of Launch' a tipo datetime\n",
    "nuevo_df['Date of Launch'] = pd.to_datetime(nuevo_df['Date of Launch'], errors='coerce')\n"
   ]
  },
  {
   "cell_type": "code",
   "execution_count": null,
   "metadata": {},
   "outputs": [],
   "source": [
    "# Convertir la columna 'Date of Launch' a tipo datetime\n",
    "#nuevo_df['Date of Launch'] = pd.to_datetime(nuevo_df['Date of Launch'])\n",
    "\n",
    "# Extraer el año de la columna 'Date of Launch'\n",
    "nuevo_df['Launch Year'] = nuevo_df['Date of Launch'].dt.year\n",
    "\n",
    "# Crear un histograma de los lanzamientos por año\n",
    "plt.figure(figsize=(10, 6))\n",
    "nuevo_df['Launch Year'].hist(bins=20, color='skyblue', edgecolor='black')\n",
    "plt.xlabel('Año de Lanzamiento')\n",
    "plt.ylabel('Cantidad de Satélites Lanzados')\n",
    "plt.title('Histograma de Lanzamiento de Satélites por Año')\n",
    "plt.grid(False)\n",
    "plt.show()\n"
   ]
  },
  {
   "cell_type": "code",
   "execution_count": null,
   "metadata": {},
   "outputs": [],
   "source": [
    "# Contar la cantidad de satélites por país propietario\n",
    "satelites_por_pais = nuevo_df['Country of Operator/Owner'].value_counts()\n",
    "\n",
    "# Limitar el número de países mostrados en el gráfico (opcional)\n",
    "top_paises = 10  # Puedes cambiar esto para mostrar más o menos países\n",
    "satelites_top_paises = satelites_por_pais.head(top_paises)\n",
    "\n",
    "# Crear el gráfico de barras\n",
    "plt.figure(figsize=(10, 6))\n",
    "satelites_top_paises.plot(kind='bar', color='skyblue')\n",
    "plt.xlabel('Países Propietarios')\n",
    "plt.ylabel('Cantidad de Satélites')\n",
    "plt.title('Cantidad de Satélites por País Propietario (Top 10)')\n",
    "plt.xticks(rotation=45)  # Rotar etiquetas del eje x para mejor legibilidad\n",
    "plt.tight_layout()\n",
    "plt.show()\n"
   ]
  },
  {
   "cell_type": "code",
   "execution_count": null,
   "metadata": {},
   "outputs": [],
   "source": [
    "# Contar los valores únicos en la columna 'Purpose'\n",
    "conteo_propositos = nuevo_df['Purpose'].value_counts()\n",
    "\n",
    "# Filtrar para mostrar solo aquellos propósitos que superan el 1%\n",
    "conteo_propositos = conteo_propositos[conteo_propositos / len(nuevo_df) * 100 > 0.5]\n",
    "\n",
    "# Configurar los datos para el gráfico de pastel\n",
    "labels = conteo_propositos.index\n",
    "sizes = conteo_propositos.values\n",
    "\n",
    "# Crear el gráfico de pastel con mejor presentación\n",
    "plt.figure(figsize=(8, 8))\n",
    "plt.pie(sizes, labels=None, autopct='%1.1f%%', startangle=140)\n",
    "plt.title('Propósitos de los Satélites')\n",
    "\n",
    "# Mostrar porcentajes fuera del gráfico con una buena ubicación\n",
    "plt.legend(labels, loc=\"best\", bbox_to_anchor=(1, 0.5))\n",
    "\n",
    "plt.axis('equal')  # Hace que el gráfico sea un círculo en lugar de una elipse\n",
    "plt.show()\n"
   ]
  },
  {
   "cell_type": "code",
   "execution_count": null,
   "metadata": {},
   "outputs": [],
   "source": [
    "# Contar los satélites lanzados por cada país\n",
    "conteo_paises = nuevo_df['Country of Operator/Owner'].value_counts()\n",
    "\n",
    "print(conteo_paises)"
   ]
  },
  {
   "cell_type": "code",
   "execution_count": null,
   "metadata": {},
   "outputs": [],
   "source": [
    "# Contar los satélites lanzados por cada país\n",
    "conteo_paises = nuevo_df['Country of Operator/Owner'].value_counts()\n",
    "\n",
    "print(conteo_paises)"
   ]
  },
  {
   "cell_type": "code",
   "execution_count": null,
   "metadata": {},
   "outputs": [],
   "source": [
    "# Contar los satélites lanzados por cada país\n",
    "conteo_paises = nuevo_df['Country of Operator/Owner'].value_counts()\n",
    "\n",
    "# Filtrar para mostrar solo los países que enviaron más de 10 satélites\n",
    "conteo_paises_filtrado = conteo_paises[conteo_paises > 10]\n",
    "\n",
    "# Crear el gráfico de barras para los países que enviaron más de 10 satélites\n",
    "plt.figure(figsize=(10, 6))\n",
    "conteo_paises_filtrado.plot(kind='bar')\n",
    "plt.title('Países que Enviaron Más de 10 Satélites')\n",
    "plt.xlabel('País')\n",
    "plt.ylabel('Cantidad de Satélites')\n",
    "plt.xticks(rotation=45)  # Rotar etiquetas del eje x para mejor legibilidad\n",
    "plt.grid(axis='y')  # Mostrar líneas de la cuadrícula en el eje y\n",
    "plt.tight_layout()\n",
    "plt.show()\n"
   ]
  },
  {
   "cell_type": "code",
   "execution_count": null,
   "metadata": {},
   "outputs": [],
   "source": [
    "# Contar los satélites enviados por cada país\n",
    "conteo_paises = nuevo_df['Country of Operator/Owner'].value_counts()\n",
    "\n",
    "# Obtener el número de satélites enviados por Argentina y España\n",
    "satelites_argentina = conteo_paises.get('Argentina', 0)\n",
    "satelites_espana = conteo_paises.get('Spain', 0)\n",
    "\n",
    "print(f\"Argentina envió {satelites_argentina} satélites.\")\n",
    "print(f\"España envió {satelites_espana} satélites.\")\n"
   ]
  },
  {
   "cell_type": "code",
   "execution_count": null,
   "metadata": {},
   "outputs": [],
   "source": [
    "# Contar los lanzamientos desde cada sitio específico y los países responsables\n",
    "lanzamientos_por_sitio = nuevo_df.groupby('Launch Site')['Country of Operator/Owner'].value_counts().reset_index(name='Lanzamientos')\n",
    "\n",
    "# Encontrar el país con más lanzamientos desde cada sitio\n",
    "paises_max_lanzamientos_por_sitio = lanzamientos_por_sitio.groupby('Launch Site').agg({'Country of Operator/Owner': lambda x: x.iloc[0]}).reset_index()\n",
    "\n",
    "print(paises_max_lanzamientos_por_sitio)\n"
   ]
  },
  {
   "cell_type": "code",
   "execution_count": null,
   "metadata": {},
   "outputs": [],
   "source": [
    "# Calcular la esperanza de vida promedio por país\n",
    "esperanza_vida_por_pais = nuevo_df.groupby('Country of Operator/Owner')['Expected Lifetime (yrs.)'].mean().reset_index()\n",
    "esperanza_vida_por_pais = esperanza_vida_por_pais.dropna()  # Eliminar NaN si hay valores faltantes\n",
    "\n",
    "# Ordenar los países por su esperanza de vida promedio de los satélites\n",
    "esperanza_vida_por_pais = esperanza_vida_por_pais.sort_values(by='Expected Lifetime (yrs.)', ascending=False)\n",
    "\n",
    "print(esperanza_vida_por_pais)\n"
   ]
  },
  {
   "cell_type": "code",
   "execution_count": null,
   "metadata": {},
   "outputs": [],
   "source": [
    "# Contar los lanzamientos desde cada sitio específico\n",
    "conteo_lanzamientos = nuevo_df['Launch Site'].value_counts()\n",
    "\n",
    "# Filtrar aquellos con más del 1% de participación\n",
    "umbral = 0.01\n",
    "conteo_filtado = conteo_lanzamientos[conteo_lanzamientos / conteo_lanzamientos.sum() > umbral]\n",
    "\n",
    "# Configurar el gráfico de pastel\n",
    "plt.figure(figsize=(8, 8))\n",
    "plt.pie(conteo_filtado, labels=conteo_filtado.index, autopct='%1.1f%%', startangle=140)\n",
    "plt.title('Porcentaje de lanzamientos por sitio (más del 1%)')\n",
    "plt.axis('equal')  # Aspecto de círculo\n",
    "plt.tight_layout()\n",
    "plt.show()\n"
   ]
  },
  {
   "cell_type": "code",
   "execution_count": null,
   "metadata": {},
   "outputs": [],
   "source": [
    "# Crear un diccionario que mapea los sitios de lanzamiento con sus respectivos países\n",
    "sitios_paises = nuevo_df.groupby('Launch Site')['Country of Contractor'].unique().apply(lambda x: x[0])\n",
    "\n",
    "# Contar los lanzamientos desde cada sitio específico\n",
    "conteo_lanzamientos = nuevo_df['Launch Site'].value_counts()\n",
    "\n",
    "# Filtrar aquellos con más del 1% de participación\n",
    "umbral = 0.01\n",
    "conteo_filtado = conteo_lanzamientos[conteo_lanzamientos / conteo_lanzamientos.sum() > umbral]\n",
    "\n",
    "# Obtener los países correspondientes a los sitios de lanzamiento filtrados\n",
    "paises_filtados = sitios_paises[conteo_filtado.index]\n",
    "\n",
    "# Configurar el gráfico de pastel con información adicional de países\n",
    "plt.figure(figsize=(8, 8))\n",
    "plt.pie(conteo_filtado, labels=[f\"{site} ({country})\" for site, country in zip(conteo_filtado.index, paises_filtados)],\n",
    "        autopct='%1.1f%%', startangle=140)\n",
    "plt.title('Porcentaje de lanzamientos por sitio (más del 1%) con país correspondiente')\n",
    "plt.axis('equal')  # Aspecto de círculo\n",
    "plt.tight_layout()\n",
    "plt.show()\n"
   ]
  },
  {
   "cell_type": "code",
   "execution_count": null,
   "metadata": {},
   "outputs": [],
   "source": [
    "# Calcular la esperanza de vida promedio por país\n",
    "esperanza_vida_por_pais = nuevo_df.groupby('Country of Operator/Owner')['Expected Lifetime (yrs.)'].mean().dropna()\n",
    "\n",
    "# Ordenar los países por la esperanza de vida promedio de los satélites\n",
    "esperanza_vida_por_pais = esperanza_vida_por_pais.sort_values(ascending=False)\n",
    "\n",
    "# Graficar la esperanza de vida promedio por país\n",
    "plt.figure(figsize=(10, 6))\n",
    "esperanza_vida_por_pais.head(10).plot(kind='bar', color='skyblue')\n",
    "plt.title('Esperanza de vida promedio de satélites por país (Top 10)')\n",
    "plt.xlabel('País')\n",
    "plt.ylabel('Esperanza de vida promedio (años)')\n",
    "plt.xticks(rotation=45)\n",
    "plt.tight_layout()\n",
    "plt.show()\n"
   ]
  },
  {
   "cell_type": "code",
   "execution_count": null,
   "metadata": {},
   "outputs": [],
   "source": [
    "# Contar valores únicos en la columna 'Users'\n",
    "conteo_usuarios = nuevo_df['Users'].value_counts()\n",
    "\n",
    "# Filtrar para mostrar solo aquellos tipos de usuario que superen el 1%\n",
    "conteo_usuarios = conteo_usuarios[conteo_usuarios / len(nuevo_df) * 100 > 1]\n",
    "\n",
    "# Configurar los datos para el gráfico de pastel\n",
    "labels = conteo_usuarios.index\n",
    "sizes = conteo_usuarios.values\n",
    "\n",
    "# Crear el gráfico de pastel con mejor presentación\n",
    "plt.figure(figsize=(8, 8))\n",
    "plt.pie(sizes, labels=labels, autopct='%1.1f%%', startangle=140)\n",
    "plt.title('Tipos de Usuarios de Satélites')\n",
    "\n",
    "# Mostrar porcentajes fuera del gráfico con una buena ubicación\n",
    "plt.legend(labels, loc=\"best\", bbox_to_anchor=(1, 0.5))\n",
    "\n",
    "plt.axis('equal')  # Hace que el gráfico sea un círculo en lugar de una elipse\n",
    "plt.show()"
   ]
  },
  {
   "cell_type": "code",
   "execution_count": null,
   "metadata": {},
   "outputs": [],
   "source": [
    "# Contar valores únicos en la columna 'Operator/Owner'\n",
    "conteo_propietarios = nuevo_df['Operator/Owner'].value_counts()\n",
    "\n",
    "# Filtrar para mostrar solo aquellos propietarios que superen el 1%\n",
    "conteo_propietarios = conteo_propietarios[conteo_propietarios / len(nuevo_df) * 100 > 1]\n",
    "\n",
    "# Configurar los datos para el gráfico de pastel\n",
    "labels = conteo_propietarios.index\n",
    "sizes = conteo_propietarios.values\n",
    "\n",
    "# Crear el gráfico de pastel con mejor presentación\n",
    "plt.figure(figsize=(8, 8))\n",
    "plt.pie(sizes, labels=labels, autopct='%1.1f%%', startangle=140)\n",
    "plt.title('Propietarios de Satélites')\n",
    "\n",
    "# Mostrar porcentajes fuera del gráfico con una buena ubicación\n",
    "plt.legend(labels, loc=\"best\", bbox_to_anchor=(1, 0.5))\n",
    "\n",
    "plt.axis('equal')  # Hace que el gráfico sea un círculo en lugar de una elipse\n",
    "plt.show()"
   ]
  },
  {
   "cell_type": "code",
   "execution_count": null,
   "metadata": {},
   "outputs": [],
   "source": [
    "# Contar valores únicos en la columna 'Launch Vehicle'\n",
    "conteo_vehiculos_lanzamiento = nuevo_df['Launch Vehicle'].value_counts()\n",
    "\n",
    "# Filtrar para mostrar solo aquellos vehículos que superen el 1%\n",
    "conteo_vehiculos_lanzamiento = conteo_vehiculos_lanzamiento[conteo_vehiculos_lanzamiento / len(nuevo_df) * 100 > 1]\n",
    "\n",
    "# Configurar los datos para el gráfico de pastel\n",
    "labels = conteo_vehiculos_lanzamiento.index\n",
    "sizes = conteo_vehiculos_lanzamiento.values\n",
    "\n",
    "# Crear el gráfico de pastel con mejor presentación\n",
    "plt.figure(figsize=(8, 8))\n",
    "plt.pie(sizes, labels=labels, autopct='%1.1f%%', startangle=140)\n",
    "plt.title('Vehículos de Lanzamiento')\n",
    "\n",
    "# Mostrar porcentajes fuera del gráfico con una buena ubicación\n",
    "plt.legend(labels, loc=\"best\", bbox_to_anchor=(1, 0.5))\n",
    "\n",
    "plt.axis('equal')  # Hace que el gráfico sea un círculo en lugar de una elipse\n",
    "plt.show()"
   ]
  }
 ],
 "metadata": {
  "kernelspec": {
   "display_name": "Python 3",
   "language": "python",
   "name": "python3"
  },
  "language_info": {
   "codemirror_mode": {
    "name": "ipython",
    "version": 3
   },
   "file_extension": ".py",
   "mimetype": "text/x-python",
   "name": "python",
   "nbconvert_exporter": "python",
   "pygments_lexer": "ipython3",
   "version": "3.11.3"
  }
 },
 "nbformat": 4,
 "nbformat_minor": 2
}
